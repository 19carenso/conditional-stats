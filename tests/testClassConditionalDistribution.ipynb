{
 "cells": [
  {
   "cell_type": "code",
   "execution_count": 1,
   "metadata": {
    "ExecuteTime": {
     "end_time": "2019-11-07T16:39:58.026395Z",
     "start_time": "2019-11-07T16:39:57.744995Z"
    }
   },
   "outputs": [],
   "source": [
    "%load_ext autoreload\n",
    "%matplotlib inline"
   ]
  },
  {
   "cell_type": "code",
   "execution_count": 2,
   "metadata": {
    "ExecuteTime": {
     "end_time": "2019-11-07T16:39:59.378405Z",
     "start_time": "2019-11-07T16:39:58.426733Z"
    }
   },
   "outputs": [
    {
     "name": "stderr",
     "output_type": "stream",
     "text": [
      "/Users/bfildier/anaconda3/envs/pyLMD/lib/python3.7/site-packages/xarray/core/merge.py:17: FutureWarning: The Panel class is removed from pandas. Accessing it from the top-level namespace will also be removed in the next version\n",
      "  PANDAS_TYPES = (pd.Series, pd.DataFrame, pd.Panel)\n"
     ]
    },
    {
     "name": "stdout",
     "output_type": "stream",
     "text": [
      "Own modules available: ['conditionalstats']\n",
      "Own modules available: ['plot1DInvLog']\n"
     ]
    }
   ],
   "source": [
    "%autoreload 2\n",
    "\n",
    "import sys,os,glob\n",
    "import matplotlib\n",
    "import matplotlib.pyplot as plt\n",
    "import xarray as xr\n",
    "\n",
    "## Add own library to path\n",
    "workdir = os.getcwd()\n",
    "thismodule = sys.modules[__name__]\n",
    "moduledir = os.path.join(os.path.dirname(workdir),'modules')\n",
    "functionsdir = os.path.join(os.path.dirname(workdir),'functions')\n",
    "sys.path.insert(0,moduledir)\n",
    "sys.path.insert(0,functionsdir)\n",
    "for includedir in [moduledir,functionsdir]:\n",
    "    print(\"Own modules available:\", [os.path.splitext(os.path.basename(x))[0]\n",
    "                                     for x in glob.glob(os.path.join(includedir,'*.py'))])\n",
    "\n",
    "from conditionalstats import *\n",
    "from plot1DInvLog import *\n",
    "\n",
    "## Input data dir\n",
    "inputdir = os.path.join(os.path.dirname(workdir),'input')\n",
    "\n",
    "## Graphical parameters\n",
    "plt.style.use(os.path.join(matplotlib.get_configdir(),'stylelib/presentation.mplstyle'))"
   ]
  },
  {
   "cell_type": "code",
   "execution_count": 3,
   "metadata": {
    "ExecuteTime": {
     "end_time": "2019-11-07T16:39:59.619548Z",
     "start_time": "2019-11-07T16:39:59.427997Z"
    }
   },
   "outputs": [
    {
     "name": "stdout",
     "output_type": "stream",
     "text": [
      "import some 2D variables\n"
     ]
    }
   ],
   "source": [
    "print(\"import some 2D variables\")\n",
    "file2D = os.path.join(inputdir,'fplane_n01_300_i03_256.2Dcom_1.nc')\n",
    "varids2drop = ['SHF', 'LHF', 'LWNS', 'LWNSC', 'LWNT', 'LWNTC', 'SWNS', 'SWNSC', 'SWNT', 'SWNTC', 'IntQN', 'IntQP', 'MSE', 'USFC', 'VSFC', 'W500', 'SWVP', 'TSFC', 'QSFC']\n",
    "ds_2D = xr.open_dataset(file2D,decode_cf=False,drop_variables=varids2drop)"
   ]
  },
  {
   "cell_type": "code",
   "execution_count": 4,
   "metadata": {
    "ExecuteTime": {
     "end_time": "2019-11-07T16:40:03.004904Z",
     "start_time": "2019-11-07T16:40:02.962309Z"
    }
   },
   "outputs": [
    {
     "name": "stdout",
     "output_type": "stream",
     "text": [
      "import some 3D variables\n"
     ]
    }
   ],
   "source": [
    "print(\"import some 3D variables\")\n",
    "file3D = os.path.join(inputdir,'fplane_n01_300_i03_256_0000864000.com3D.alltimes.nc')\n",
    "varids2drop = ['p', 'U', 'V', 'TABS']\n",
    "ds_3D = xr.open_dataset(file3D,decode_cf=False,drop_variables=varids2drop)"
   ]
  },
  {
   "cell_type": "code",
   "execution_count": 28,
   "metadata": {
    "ExecuteTime": {
     "end_time": "2019-11-07T16:54:33.298108Z",
     "start_time": "2019-11-07T16:54:33.265794Z"
    }
   },
   "outputs": [
    {
     "name": "stdout",
     "output_type": "stream",
     "text": [
      "pick reference time\n"
     ]
    }
   ],
   "source": [
    "print(\"pick reference time\")\n",
    "dt_2D = np.diff(ds_2D.time)[0] # days\n",
    "t_0 = 50 # days\n",
    "i_t2D = int(t_0/dt_2D)\n",
    "dt_3D = np.diff(ds_3D.time)[0] # days\n",
    "i_t3D = int(t_0/dt_3D)"
   ]
  },
  {
   "cell_type": "code",
   "execution_count": 31,
   "metadata": {
    "ExecuteTime": {
     "end_time": "2019-11-07T16:55:28.579039Z",
     "start_time": "2019-11-07T16:55:28.254272Z"
    },
    "scrolled": false
   },
   "outputs": [
    {
     "name": "stdout",
     "output_type": "stream",
     "text": [
      "compute distribution of reference variable\n",
      "Finding bin locations...\n",
      "\n"
     ]
    }
   ],
   "source": [
    "print(\"compute distribution of reference variable\")\n",
    "ref_varid = 'PW'\n",
    "verbose = False\n",
    "# Initialize\n",
    "ref_dist_linear = Distribution(name=ref_varid)\n",
    "# Compute\n",
    "ref_dist_linear.computeDistribution(sample=ds_2D[ref_varid][i_t2D].values)\n",
    "# Compute locations of reference bins\n",
    "ref_dist_linear.storeSamplePoints(sample=ds_2D[ref_varid][i_t2D].values,verbose=verbose)"
   ]
  },
  {
   "cell_type": "code",
   "execution_count": 7,
   "metadata": {
    "ExecuteTime": {
     "end_time": "2019-11-07T16:40:05.123624Z",
     "start_time": "2019-11-07T16:40:05.091881Z"
    }
   },
   "outputs": [
    {
     "name": "stdout",
     "output_type": "stream",
     "text": [
      "check size\n"
     ]
    },
    {
     "data": {
      "text/plain": [
       "(50, 50)"
      ]
     },
     "execution_count": 7,
     "metadata": {},
     "output_type": "execute_result"
    }
   ],
   "source": [
    "print('check size')\n",
    "ref_dist_linear.nlb, ref_dist_linear.nbins"
   ]
  },
  {
   "cell_type": "code",
   "execution_count": 8,
   "metadata": {
    "ExecuteTime": {
     "end_time": "2019-11-07T16:40:06.101083Z",
     "start_time": "2019-11-07T16:40:06.062946Z"
    }
   },
   "outputs": [
    {
     "name": "stdout",
     "output_type": "stream",
     "text": [
      "compute conditional distribution for a 2D variable\n"
     ]
    }
   ],
   "source": [
    "print(\"compute conditional distribution for a 2D variable\")\n",
    "verbose = True\n",
    "cond_varid_2D = 'Prec'\n",
    "# Initialize\n",
    "cond_dist_2D = ConditionalDistribution(name=cond_varid_2D,\n",
    "                                       is3D=False,\n",
    "                                       refDistribution=ref_dist_linear)\n",
    "# Compute conditional distributions\n",
    "cond_dist_2D.computeConditionalMeanAndVariance(sample=ds_2D[cond_varid_2D][i_t2D].values,\n",
    "                                               verbose=False)\n"
   ]
  },
  {
   "cell_type": "code",
   "execution_count": 16,
   "metadata": {
    "ExecuteTime": {
     "end_time": "2019-11-07T16:47:41.045682Z",
     "start_time": "2019-11-07T16:47:40.919973Z"
    }
   },
   "outputs": [
    {
     "name": "stdout",
     "output_type": "stream",
     "text": [
      "showing conditional distribution of 2D variable\n"
     ]
    },
    {
     "data": {
      "image/png": "[encoded data removed]",
      "text/plain": [
       "<Figure size 360x360 with 1 Axes>"
      ]
     },
     "metadata": {
      "needs_background": "light"
     },
     "output_type": "display_data"
    },
    {
     "name": "stdout",
     "output_type": "stream",
     "text": [
      "\n",
      "# ALSO PLOT CONDITIONAL VARIANCE AROUND CONDITIONAL MEAN\n",
      "# INCLUDE SUBPLOT FUNCTION INSIDE CONDITIONALDISTRIBUTION OBJECT\n",
      "# ADD attributes self.cond_std, self.cond_Q1, self.cond_med, self.cond_Q3 for interquartile range\n",
      "\n"
     ]
    }
   ],
   "source": [
    "print(\"showing conditional distribution of 2D variable\")\n",
    "fig,ax = plt.subplots(figsize=(5,5))\n",
    "ax.plot(cond_dist_2D.on.percentiles,cond_dist_2D.cond_mean,'k')\n",
    "ax.set_xlabel(ref_varid)\n",
    "ax.set_ylabel(cond_varid_2D)\n",
    "\n",
    "x = cond_dist_2D.on.percentiles\n",
    "y1 = cond_dist_2D.cond_mean - np.sqrt(cond_dist_2D.cond_var)\n",
    "y2 = cond_dist_2D.cond_mean + np.sqrt(cond_dist_2D.cond_var)\n",
    "ax.fill_between(x,y1,y2,where=y2>=y1,facecolor='g',alpha=0.5,interpolate=True)\n",
    "\n",
    "plt.show()\n",
    "print(\"\"\"\n",
    "# ALSO PLOT CONDITIONAL VARIANCE AROUND CONDITIONAL MEAN\n",
    "# INCLUDE SUBPLOT FUNCTION INSIDE CONDITIONALDISTRIBUTION OBJECT\n",
    "# ADD attributes self.cond_std, self.cond_Q1, self.cond_med, self.cond_Q3 for interquartile range\n",
    "\"\"\")"
   ]
  },
  {
   "cell_type": "code",
   "execution_count": 46,
   "metadata": {
    "ExecuteTime": {
     "end_time": "2019-11-07T17:00:06.199428Z",
     "start_time": "2019-11-07T17:00:05.886355Z"
    }
   },
   "outputs": [
    {
     "name": "stdout",
     "output_type": "stream",
     "text": [
      "compute conditional distribution for a 3D variable\n"
     ]
    }
   ],
   "source": [
    "print(\"compute conditional distribution for a 3D variable\")\n",
    "cond_varid_3D = 'W'\n",
    "# Initialize\n",
    "cond_dist_3D = ConditionalDistribution(name=cond_varid_3D,\n",
    "                                       is3D=True,\n",
    "                                       refDistribution=ref_dist_linear)\n",
    "# Compute conditional distributions\n",
    "cond_dist_3D.computeConditionalMeanAndVariance(ds_3D[cond_varid_3D][i_t3D].values)\n"
   ]
  },
  {
   "cell_type": "code",
   "execution_count": 48,
   "metadata": {
    "ExecuteTime": {
     "end_time": "2019-11-07T17:01:16.553274Z",
     "start_time": "2019-11-07T17:01:16.371817Z"
    }
   },
   "outputs": [
    {
     "name": "stdout",
     "output_type": "stream",
     "text": [
      "showing conditional distribution of 2D variable\n",
      "\n",
      "# SHOW AXES\n",
      "# WRITE PLOTTING METHODS\n",
      "\n"
     ]
    },
    {
     "data": {
      "image/png": "[encoded data removed]",
      "text/plain": [
       "<Figure size 648x360 with 2 Axes>"
      ]
     },
     "metadata": {
      "needs_background": "light"
     },
     "output_type": "display_data"
    }
   ],
   "source": [
    "print(\"showing conditional distribution of 2D variable\")\n",
    "fig,ax = plt.subplots(figsize=(9,5))\n",
    "h = ax.contourf(cond_dist_3D.cond_mean)\n",
    "# ax.set_xlabel(ref_varid)\n",
    "# ax.set_ylabel(cond_varid_2D)\n",
    "plt.colorbar(h)\n",
    "\n",
    "print(\"\"\"\n",
    "# SHOW AXES\n",
    "# WRITE PLOTTING METHODS\n",
    "\"\"\")\n",
    "\n",
    "plt.show()"
   ]
  },
  {
   "cell_type": "code",
   "execution_count": null,
   "metadata": {},
   "outputs": [],
   "source": []
  }
 ],
 "metadata": {
  "hide_input": false,
  "kernelspec": {
   "display_name": "Python 3",
   "language": "python",
   "name": "python3"
  },
  "language_info": {
   "codemirror_mode": {
    "name": "ipython",
    "version": 3
   },
   "file_extension": ".py",
   "mimetype": "text/x-python",
   "name": "python",
   "nbconvert_exporter": "python",
   "pygments_lexer": "ipython3",
   "version": "3.7.4"
  },
  "latex_envs": {
   "LaTeX_envs_menu_present": true,
   "autoclose": false,
   "autocomplete": true,
   "bibliofile": "biblio.bib",
   "cite_by": "apalike",
   "current_citInitial": 1,
   "eqLabelWithNumbers": true,
   "eqNumInitial": 1,
   "hotkeys": {
    "equation": "Ctrl-E",
    "itemize": "Ctrl-I"
   },
   "labels_anchors": false,
   "latex_user_defs": false,
   "report_style_numbering": false,
   "user_envs_cfg": false
  },
  "toc": {
   "base_numbering": 1,
   "nav_menu": {},
   "number_sections": true,
   "sideBar": true,
   "skip_h1_title": false,
   "title_cell": "Table of Contents",
   "title_sidebar": "Contents",
   "toc_cell": false,
   "toc_position": {},
   "toc_section_display": true,
   "toc_window_display": false
  },
  "varInspector": {
   "cols": {
    "lenName": 16,
    "lenType": 16,
    "lenVar": 40
   },
   "kernels_config": {
    "python": {
     "delete_cmd_postfix": "",
     "delete_cmd_prefix": "del ",
     "library": "var_list.py",
     "varRefreshCmd": "print(var_dic_list())"
    },
    "r": {
     "delete_cmd_postfix": ") ",
     "delete_cmd_prefix": "rm(",
     "library": "var_list.r",
     "varRefreshCmd": "cat(var_dic_list()) "
    }
   },
   "types_to_exclude": [
    "module",
    "function",
    "builtin_function_or_method",
    "instance",
    "_Feature"
   ],
   "window_display": false
  }
 },
 "nbformat": 4,
 "nbformat_minor": 2
}
